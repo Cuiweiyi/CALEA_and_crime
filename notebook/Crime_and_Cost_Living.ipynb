{
 "cells": [
  {
   "cell_type": "code",
   "execution_count": null,
   "id": "d2734850",
   "metadata": {},
   "outputs": [],
   "source": [
    "import requests\n",
    "from bs4 import BeautifulSoup as BS\n",
    "from IPython.core.display import HTML\n",
    "import pandas as pd\n",
    "pd.set_option('display.max_rows', None)\n",
    "import re\n",
    "import seaborn as sns\n",
    "import matplotlib.pyplot as plt\n",
    "import warnings\n",
    "warnings.filterwarnings(\"ignore\")"
   ]
  },
  {
   "cell_type": "code",
   "execution_count": null,
   "id": "71ae29f5",
   "metadata": {},
   "outputs": [],
   "source": [
    "URL_16=\"https://web.archive.org/web/20160524083404/https://www.numbeo.com/cost-of-living/country_result.jsp?country=United+States\"\n",
    "# wayback machine referencing data from May of 2016\n",
    "response=requests.get(URL_16)"
   ]
  },
  {
   "cell_type": "code",
   "execution_count": null,
   "id": "7bb5d5fd",
   "metadata": {},
   "outputs": [],
   "source": [
    "response.status_code"
   ]
  },
  {
   "cell_type": "code",
   "execution_count": null,
   "id": "50d7db6b",
   "metadata": {},
   "outputs": [],
   "source": [
    "response.text"
   ]
  },
  {
   "cell_type": "code",
   "execution_count": null,
   "id": "d12c0639",
   "metadata": {},
   "outputs": [],
   "source": [
    "tomato_soup=BS(response.text)\n",
    "print(tomato_soup.prettify())"
   ]
  },
  {
   "cell_type": "code",
   "execution_count": null,
   "id": "c05c8c88",
   "metadata": {},
   "outputs": [],
   "source": [
    "item = tomato_soup.findAll('td')[5]\n",
    "item\n",
    "#To quote Amanda Partlow, \"why re-invent the wheel when you have something that already works\""
   ]
  },
  {
   "cell_type": "code",
   "execution_count": null,
   "id": "95cc9167",
   "metadata": {},
   "outputs": [],
   "source": [
    "items = tomato_soup.find(class_= 'data_wide_table').findAll('td')\n",
    "items"
   ]
  },
  {
   "cell_type": "code",
   "execution_count": null,
   "id": "a5cbb5a9",
   "metadata": {},
   "outputs": [],
   "source": [
    "#items.find(class_= 'tr_highlighted')\n",
    "table_16=pd.read_html(\"https://web.archive.org/web/20160524083404/https://www.numbeo.com/cost-of-living/country_result.jsp?country=United+States\")\n",
    "table_16= table_16[2]\n",
    "table_16.head()"
   ]
  },
  {
   "cell_type": "markdown",
   "id": "aa950478",
   "metadata": {},
   "source": [
    "### We got the first of the cost of living datasets from read_html, let's make it a dataframe"
   ]
  },
  {
   "cell_type": "code",
   "execution_count": null,
   "id": "e698fc49",
   "metadata": {},
   "outputs": [],
   "source": [
    "cost16=pd.DataFrame(table_16)\n",
    "cost16"
   ]
  },
  {
   "cell_type": "markdown",
   "id": "1cdb32cc",
   "metadata": {},
   "source": [
    "## Set up Cost of Living datasets"
   ]
  },
  {
   "cell_type": "markdown",
   "id": "c150e40b",
   "metadata": {},
   "source": [
    "###### We have the 2016 dataframe, set up the rest. "
   ]
  },
  {
   "cell_type": "markdown",
   "id": "b7cb6bc0",
   "metadata": {},
   "source": [
    "##### The wayback machine is not consistent on WHEN it captures, but at least once a month. \n",
    "##### could not make a loop because of inconsistent days recorded for scraping "
   ]
  },
  {
   "cell_type": "code",
   "execution_count": null,
   "id": "679f2120",
   "metadata": {},
   "outputs": [],
   "source": [
    "#the 3rd table is general trends in averages across the US\n",
    "table_17=pd.read_html(\"https://web.archive.org/web/201704083404/https://www.numbeo.com/cost-of-living/country_result.jsp?country=United+States\")\n",
    "table_17= table_17[3]\n",
    "table_18=pd.read_html(\"https://web.archive.org/web/20180429062837/https://www.numbeo.com/cost-of-living/country_result.jsp?country=United+States\")\n",
    "table_18= table_18[3]\n",
    "table_19=pd.read_html(\"https://web.archive.org/web/20190403235143/https://www.numbeo.com/cost-of-living/country_result.jsp?country=United+States\")\n",
    "table_19= table_19[3]\n",
    "# I changed 2020 to reflect data from 2015 so that it matches with the crime data. I will leave the name as 20 for simplicity\n",
    "table_20=pd.read_html(\"https://web.archive.org/web/20150527153415/http://www.numbeo.com:80/cost-of-living/country_result.jsp?country=United+States\")\n",
    "table_20= table_20[3]"
   ]
  },
  {
   "cell_type": "markdown",
   "id": "6fc46aee",
   "metadata": {},
   "source": [
    "##### Let's check to make sure all of that went through correctly and there are no problems."
   ]
  },
  {
   "cell_type": "code",
   "execution_count": null,
   "id": "fc6f3cd2",
   "metadata": {},
   "outputs": [],
   "source": [
    "table_17.head()\n",
    "#looks good"
   ]
  },
  {
   "cell_type": "code",
   "execution_count": null,
   "id": "076b91f5",
   "metadata": {},
   "outputs": [],
   "source": [
    "table_17.tail()"
   ]
  },
  {
   "cell_type": "code",
   "execution_count": null,
   "id": "5083d3e5",
   "metadata": {},
   "outputs": [],
   "source": [
    "table_18.head()"
   ]
  },
  {
   "cell_type": "code",
   "execution_count": null,
   "id": "22a8f7a4",
   "metadata": {},
   "outputs": [],
   "source": [
    "table_19.head()\n",
    "# It WORKS! Finally starting to see some difference in prices too."
   ]
  },
  {
   "cell_type": "code",
   "execution_count": null,
   "id": "48104bb1",
   "metadata": {},
   "outputs": [],
   "source": [
    "table_20.head()"
   ]
  },
  {
   "cell_type": "markdown",
   "id": "14e3f2df",
   "metadata": {},
   "source": [
    "#### 2021 was not pulling correctly, so I singled that one out from the above column"
   ]
  },
  {
   "cell_type": "code",
   "execution_count": null,
   "id": "637ac02d",
   "metadata": {},
   "outputs": [],
   "source": [
    "table_21=pd.read_html(\"https://web.archive.org/web/20210605054203/https://www.numbeo.com/cost-of-living/country_result.jsp?country=United+States\")\n",
    "table_21= table_21[2]\n",
    "table_21.head()\n",
    "#There was a slightly different index. Once located it produced the same table"
   ]
  },
  {
   "cell_type": "code",
   "execution_count": null,
   "id": "fcdee91e",
   "metadata": {},
   "outputs": [],
   "source": [
    "cost17=pd.DataFrame(table_17)\n",
    "cost18=pd.DataFrame(table_18)\n",
    "cost19=pd.DataFrame(table_19)\n",
    "cost20=pd.DataFrame(table_20)\n",
    "cost21=pd.DataFrame(table_21)"
   ]
  },
  {
   "cell_type": "code",
   "execution_count": null,
   "id": "a696d2e5",
   "metadata": {
    "scrolled": true
   },
   "outputs": [],
   "source": [
    "# Let's likewise use tabel to read in specifics for dense cities and use those as a representative of each state. \n",
    "tabel15=pd.read_html(\"https://web.archive.org/web/20150527153415/http://www.numbeo.com:80/cost-of-living/country_result.jsp?country=United+States\")\n",
    "tabel15= tabel15[7]\n",
    "tabel15"
   ]
  },
  {
   "cell_type": "markdown",
   "id": "9886cb09",
   "metadata": {},
   "source": [
    "#### Best indexes to use seem to be: \n",
    "NY-0,\n",
    "HI-1,\n",
    "AK-4,\n",
    "CA-5,\n",
    "WA-6,\n",
    "CT-7,\n",
    "ID-68,\n",
    "UT-67,\n",
    "GA-50,\n",
    "TX-38,\n",
    "NC-36,\n",
    "WI-33,\n",
    "CO-32,"
   ]
  },
  {
   "cell_type": "code",
   "execution_count": null,
   "id": "59229a35",
   "metadata": {},
   "outputs": [],
   "source": [
    "tabel16=pd.read_html(\"https://web.archive.org/web/20160524083404/https://www.numbeo.com/cost-of-living/country_result.jsp?country=United+States\")\n",
    "tabel16= tabel16[5]\n",
    "tabel16.head()\n"
   ]
  },
  {
   "cell_type": "code",
   "execution_count": null,
   "id": "05120dbc",
   "metadata": {},
   "outputs": [],
   "source": [
    "tabel17=pd.read_html(\"https://web.archive.org/web/201704083404/https://www.numbeo.com/cost-of-living/country_result.jsp?country=United+States\")\n",
    "tabel17= tabel17[6]\n",
    "#tabel17 works\n",
    "tabel18=pd.read_html(\"https://web.archive.org/web/20180429062837/https://www.numbeo.com/cost-of-living/country_result.jsp?country=United+States\")\n",
    "tabel18= tabel18[6]\n",
    "#tabel18 functioning like a dream\n",
    "tabel19=pd.read_html(\"https://web.archive.org/web/20190403235143/https://www.numbeo.com/cost-of-living/country_result.jsp?country=United+States\")\n",
    "tabel19= tabel19[6]\n",
    "#good. All have been checked by the function below slightly modified for each year. "
   ]
  },
  {
   "cell_type": "code",
   "execution_count": null,
   "id": "733c3b8c",
   "metadata": {},
   "outputs": [],
   "source": [
    "tabel19.head()"
   ]
  },
  {
   "cell_type": "markdown",
   "id": "0db4cde5",
   "metadata": {},
   "source": [
    "### That pulls in our Cost of living data.\n",
    "###### The crime data was pulled in as CSV format from https://ucr.fbi.gov/crime-in-the-u.s/{year}"
   ]
  },
  {
   "cell_type": "code",
   "execution_count": null,
   "id": "da92589a",
   "metadata": {},
   "outputs": [],
   "source": [
    "cr16=pd.read_csv(\"../data/crime2016.csv\", nrows=202)\n",
    "header_row = cr16.iloc[2]\n",
    "cr16 = pd.DataFrame(cr16.values[3:], columns=header_row)\n",
    "cr16"
   ]
  },
  {
   "cell_type": "markdown",
   "id": "cdd6946f",
   "metadata": {},
   "source": [
    "### Check the tail to make sure that we have exactly what we want. "
   ]
  },
  {
   "cell_type": "markdown",
   "id": "1d47585d",
   "metadata": {},
   "source": [
    "#### If we pulled in 2016 then we can pull in the others in the same way. "
   ]
  },
  {
   "cell_type": "code",
   "execution_count": null,
   "id": "474b504b",
   "metadata": {},
   "outputs": [],
   "source": [
    "cr16.tail()"
   ]
  },
  {
   "cell_type": "code",
   "execution_count": null,
   "id": "a083f515",
   "metadata": {},
   "outputs": [],
   "source": [
    "cr17=pd.read_excel(\"../data/crime2017.xlsx\", nrows=202)\n",
    "header_row = cr17.iloc[2]\n",
    "cr17 = pd.DataFrame(cr17.values[3:], columns=header_row)\n",
    "cr17.head()"
   ]
  },
  {
   "cell_type": "code",
   "execution_count": null,
   "id": "fc80ce4d",
   "metadata": {},
   "outputs": [],
   "source": [
    "cr18=pd.read_csv(\"../data/crime2018.csv\", nrows=202)\n",
    "header_row = cr18.iloc[2]\n",
    "cr18 = pd.DataFrame(cr18.values[3:], columns=header_row)\n",
    "cr18.info()"
   ]
  },
  {
   "cell_type": "code",
   "execution_count": null,
   "id": "a259ae09",
   "metadata": {},
   "outputs": [],
   "source": [
    "cr19=pd.read_csv(\"../data/crime2019.csv\", nrows=202, encoding = \"ISO-8859-1\")\n",
    "header_row = cr19.iloc[2]\n",
    "cr19 = pd.DataFrame(cr19.values[3:], columns=header_row)\n",
    "cr19.info()"
   ]
  },
  {
   "cell_type": "code",
   "execution_count": null,
   "id": "65d05fc8",
   "metadata": {},
   "outputs": [],
   "source": [
    "cr15=pd.read_csv(\"../data/crime2015.csv\", nrows=202)\n",
    "header_row = cr15.iloc[2]\n",
    "cr15 = pd.DataFrame(cr15.values[3:], columns=header_row)\n",
    "cr15.head()"
   ]
  },
  {
   "cell_type": "markdown",
   "id": "c71444a2",
   "metadata": {},
   "source": [
    "#### Now all of the data is in place. Let's look at how they compare."
   ]
  },
  {
   "cell_type": "code",
   "execution_count": null,
   "id": "3077fd5b",
   "metadata": {},
   "outputs": [],
   "source": [
    "cost=cost16.merge(cost17, how='inner', on='Restaurants')\n",
    "cost=cost.rename(columns= {'[ Edit ] Avg._x':'2016_cost', '[ Edit ] Avg._y': '2017_cost', 'Range_x':'Range_2016', 'Range_y':'Range_2017'})\n",
    "cost\n",
    "# This looks pretty good. Let's put the rest together"
   ]
  },
  {
   "cell_type": "code",
   "execution_count": null,
   "id": "0373c3a7",
   "metadata": {},
   "outputs": [],
   "source": [
    "cost=cost.merge(cost18, how='inner')\n",
    "cost=cost.rename(columns= {'[ Edit ]':'2018_cost', 'Range': 'Range_2018'})\n",
    "cost.head(1)"
   ]
  },
  {
   "cell_type": "code",
   "execution_count": null,
   "id": "bb84cbc3",
   "metadata": {},
   "outputs": [],
   "source": [
    "cost=cost.merge(cost19, how='inner')\n",
    "cost=cost.rename(columns= {'[ Edit ]':'2019_cost', 'Range': 'Range_2019'})\n",
    "cost.head(1)"
   ]
  },
  {
   "cell_type": "markdown",
   "id": "324c2378",
   "metadata": {},
   "source": [
    "#### The cost table looks great and is complete. Let's do the same with the crime"
   ]
  },
  {
   "cell_type": "code",
   "execution_count": null,
   "id": "3c506d31",
   "metadata": {},
   "outputs": [],
   "source": [
    "avg_costs=cost.drop(columns={'Range_2016','Range_2017','Range_2018','Range_2019'})\n",
    "# I feel the most important rows for identifiers would be Meal, water, beer, and 1 bedroom apartment (both in and out of city)"
   ]
  },
  {
   "cell_type": "code",
   "execution_count": null,
   "id": "d26c349b",
   "metadata": {},
   "outputs": [],
   "source": [
    "#narrow it down to tjust the columns we want\n",
    "limited_cost=avg_costs[avg_costs['Restaurants'].isin(['Meal, Inexpensive Restaurant', 'Meal for 2 People, Mid-range Restaurant, Three...', 'Water (1.5 liter bottle)', 'Domestic Beer (0.5 liter bottle)', 'Apartment (1 bedroom) in City Centre', 'Apartment (1 bedroom) Outside of Centre'])]\n",
    "limited_cost"
   ]
  },
  {
   "cell_type": "code",
   "execution_count": null,
   "id": "94f0d009",
   "metadata": {},
   "outputs": [],
   "source": [
    "#find out what we are working with here\n",
    "limited_cost.info()"
   ]
  },
  {
   "cell_type": "code",
   "execution_count": null,
   "id": "1b546124",
   "metadata": {},
   "outputs": [],
   "source": [
    "#first we have to drop the pesky symbols which will not convert\n",
    "limited_cost=limited_cost.replace({'\\s\\$':''}, regex=True)\n",
    "#the code also told me to remove commas, so let's do that while we're here.\n",
    "limited_cost=limited_cost.replace({',':''}, regex=True)"
   ]
  },
  {
   "cell_type": "code",
   "execution_count": null,
   "id": "5e8ec7e6",
   "metadata": {},
   "outputs": [],
   "source": [
    "limited_cost"
   ]
  },
  {
   "cell_type": "code",
   "execution_count": null,
   "id": "8c2c246e",
   "metadata": {},
   "outputs": [],
   "source": [
    "# That's no good. We want floats or intergers, not objects. Let's convert them\n",
    "convert = {'2016_cost': float,\n",
    "           '2017_cost': float,\n",
    "           '2018_cost': float,\n",
    "           '2019_cost': float}"
   ]
  },
  {
   "cell_type": "code",
   "execution_count": null,
   "id": "e942a7d0",
   "metadata": {},
   "outputs": [],
   "source": [
    "limited_cost= limited_cost.astype(convert)\n",
    "limited_cost.info()"
   ]
  },
  {
   "cell_type": "code",
   "execution_count": null,
   "id": "2b4a5b2f",
   "metadata": {},
   "outputs": [],
   "source": [
    "cost1=limited_cost"
   ]
  },
  {
   "cell_type": "markdown",
   "id": "a0f07eb4",
   "metadata": {},
   "source": [
    "### Let's graph that to see how each price visually changed over time"
   ]
  },
  {
   "cell_type": "code",
   "execution_count": null,
   "id": "1f38d8ce",
   "metadata": {},
   "outputs": [],
   "source": [
    "# Calculating Percentage\n",
    "limited_cost['16-17'] = ((limited_cost['2017_cost']-limited_cost['2016_cost']) / limited_cost['2016_cost'])*100\n",
    "limited_cost.head()"
   ]
  },
  {
   "cell_type": "code",
   "execution_count": null,
   "id": "83e9bf8f",
   "metadata": {},
   "outputs": [],
   "source": [
    "limited_cost.info()"
   ]
  },
  {
   "cell_type": "code",
   "execution_count": null,
   "id": "ede08bd4",
   "metadata": {},
   "outputs": [],
   "source": [
    "limited_cost['17-18'] = ((limited_cost['2018_cost']-limited_cost['2017_cost']) / limited_cost['2017_cost'])*100\n",
    "limited_cost['18-19'] = ((limited_cost['2019_cost']-limited_cost['2018_cost']) / limited_cost['2018_cost'])*100\n",
    "#limited_cost['19-20'] = ((limited_cost['2020_cost']-limited_cost['2019_cost']) / limited_cost['2019_cost'])*100\n",
    "# took out those years\n",
    "#limited_cost['20-21'] = ((limited_cost['2021_cost']-limited_cost['2020_cost']) / limited_cost['2020_cost'])*100\n",
    "limited_cost"
   ]
  },
  {
   "cell_type": "markdown",
   "id": "2a422a94",
   "metadata": {},
   "source": [
    "#### I feel good about that table with percent changes between each year."
   ]
  },
  {
   "cell_type": "code",
   "execution_count": null,
   "id": "1c8f6695",
   "metadata": {},
   "outputs": [],
   "source": [
    "#Swap them around and drop the percentages\n",
    "cost1=cost1[['Restaurants','2016_cost','2017_cost','2018_cost','2019_cost']]\n",
    "cost1.set_index('Restaurants', inplace=True)\n",
    "cost1=cost1.transpose()"
   ]
  },
  {
   "cell_type": "code",
   "execution_count": null,
   "id": "39d86ae2",
   "metadata": {},
   "outputs": [],
   "source": [
    "cost1.head()"
   ]
  },
  {
   "cell_type": "code",
   "execution_count": null,
   "id": "3328cabe",
   "metadata": {},
   "outputs": [],
   "source": [
    "#Trying to normalize the data since apartment is throwing every other cost off\n",
    "cheap=cost1[['Meal Inexpensive Restaurant','Water (1.5 liter bottle)','Domestic Beer (0.5 liter bottle)']]\n",
    "apart=cost1[['Apartment (1 bedroom) in City Centre','Apartment (1 bedroom) Outside of Centre']]"
   ]
  },
  {
   "cell_type": "code",
   "execution_count": null,
   "id": "c363da23",
   "metadata": {},
   "outputs": [],
   "source": [
    "#I don't like this graph\n",
    "cheap.plot.line(title=\"Cost of Goods\");\n",
    "\n",
    "plt.show;"
   ]
  },
  {
   "cell_type": "code",
   "execution_count": null,
   "id": "9624084c",
   "metadata": {},
   "outputs": [],
   "source": [
    "apart.plot.line(title=\"Cost of One Bedroom Housing\");\n",
    "\n",
    "plt.show;"
   ]
  },
  {
   "cell_type": "markdown",
   "id": "e838148c",
   "metadata": {},
   "source": [
    "## I have completed basic breakdown of goods over time. Let's look at the crime statistics. "
   ]
  },
  {
   "cell_type": "code",
   "execution_count": null,
   "id": "762731ed",
   "metadata": {},
   "outputs": [],
   "source": [
    "violent6=cr16[['Area','Year','Population2','Violent crime3']]\n",
    "violent7=cr17[['Area','Year','Population2','Violent crime3']]\n",
    "violent8=cr18[['Area','Year','Population2','Violent crime3']]\n",
    "violent9=cr19[['Area','Year','Population2','Violent crime3']]\n",
    "violent5=cr15[['Area','Year','Population2','Violent crime3']]"
   ]
  },
  {
   "cell_type": "code",
   "execution_count": null,
   "id": "307ca129",
   "metadata": {},
   "outputs": [],
   "source": [
    "# looking for where a 0 was added in 2015\n",
    "#violent5\n",
    "#it seems to sync with previous data from csv correctly"
   ]
  },
  {
   "cell_type": "code",
   "execution_count": null,
   "id": "8cb220a3",
   "metadata": {},
   "outputs": [],
   "source": [
    "violent=pd.concat([violent5,violent6,violent7,violent8,violent9])"
   ]
  },
  {
   "cell_type": "code",
   "execution_count": null,
   "id": "407981c9",
   "metadata": {},
   "outputs": [],
   "source": [
    "violent"
   ]
  },
  {
   "cell_type": "code",
   "execution_count": null,
   "id": "1e2368f6",
   "metadata": {
    "scrolled": true
   },
   "outputs": [],
   "source": [
    "violent['Area']=violent['Area'].fillna(method='ffill')\n",
    "violent"
   ]
  },
  {
   "cell_type": "code",
   "execution_count": null,
   "id": "b8d639b4",
   "metadata": {},
   "outputs": [],
   "source": [
    "#Drop the percent change rows because they seem to be creating pivot problems\n",
    "violent = violent.drop(violent[violent['Year'] == 'Percent change'].index, inplace=False)\n",
    "violent"
   ]
  },
  {
   "cell_type": "code",
   "execution_count": null,
   "id": "c211e4bd",
   "metadata": {},
   "outputs": [],
   "source": [
    "violent=violent.drop_duplicates(subset=['Area', 'Year'],keep='last',ignore_index=False)\n",
    "v_table=violent.groupby(['Area','Year'],as_index=True).first()\n",
    "v_table.reset_index(inplace=True)\n",
    "v_table"
   ]
  },
  {
   "cell_type": "code",
   "execution_count": null,
   "id": "fbebe7f2",
   "metadata": {},
   "outputs": [],
   "source": [
    "violent.Year.value_counts()"
   ]
  },
  {
   "cell_type": "code",
   "execution_count": null,
   "id": "b77efb14",
   "metadata": {},
   "outputs": [],
   "source": [
    "#lets see what we are working with\n",
    "violent.info()"
   ]
  },
  {
   "cell_type": "code",
   "execution_count": null,
   "id": "d1188a4b",
   "metadata": {},
   "outputs": [],
   "source": [
    "violent.Year.value_counts()"
   ]
  },
  {
   "cell_type": "code",
   "execution_count": null,
   "id": "5466debd",
   "metadata": {},
   "outputs": [],
   "source": [
    "#I was having trouble with the NaN values in Population, so I decided to convert it into a string first to isolate the letters.\n",
    "violent['Population2']=violent['Population2'].astype('str')\n",
    "violent.info()"
   ]
  },
  {
   "cell_type": "code",
   "execution_count": null,
   "id": "9d82a4e5",
   "metadata": {},
   "outputs": [],
   "source": [
    "#I think I need to change the types of population and crime to int or floats to show up in the pivot table. \n",
    "violent['Population2'] = violent['Population2'].str.replace('nan',\"0\")\n",
    "violent['Population2'] = violent['Population2'].str.replace(',',\"\")\n",
    "#eventually came up with this regex to help if =! \\d then make it a \\d\n",
    "\n",
    "#violent['Population2'] = violent['Population2'].str.replace('',\"\")\n",
    "#Removing the commas to make it a float was easy. Removing the NaN was 难\n",
    "violent['Violent crime3'] = violent['Violent crime3'].str.replace('NaN',\"0\")\n",
    "violent['Violent crime3'] = violent['Violent crime3'].str.replace(',',\"\")\n",
    "#This was the culprit of adding extra numbers\n",
    "#violent['Violent crime3'] = violent['Violent crime3'].str.replace(r'\\s',\"0\")\n",
    "violent['Year'] = violent['Year'].str.replace('Percent\\nchange',\"\")\n",
    "violent"
   ]
  },
  {
   "cell_type": "code",
   "execution_count": null,
   "id": "4a62c579",
   "metadata": {},
   "outputs": [],
   "source": [
    "#violent['Violent crime3'].astype('float')\n",
    "#I got the Populations to work, but now this one has a * somewhere. Let's see where that is and what it represents\n",
    "violent['Violent crime3'].str.find(r'*')"
   ]
  },
  {
   "cell_type": "code",
   "execution_count": null,
   "id": "af2d667c",
   "metadata": {
    "scrolled": true
   },
   "outputs": [],
   "source": [
    "table = pd.pivot_table(violent, index=['Year'])\n",
    "table"
   ]
  },
  {
   "cell_type": "code",
   "execution_count": null,
   "id": "dc10c3bc",
   "metadata": {},
   "outputs": [],
   "source": [
    "table.info()"
   ]
  },
  {
   "cell_type": "code",
   "execution_count": null,
   "id": "cd086aff",
   "metadata": {},
   "outputs": [],
   "source": [
    "#Alaska and Hawaii are outliers because they import so much and that would throw off costs. \n",
    "\n",
    "# I just realized some of the names were off for states. Let's fix that"
   ]
  },
  {
   "cell_type": "code",
   "execution_count": null,
   "id": "35d1e1b6",
   "metadata": {},
   "outputs": [],
   "source": [
    "violent['Area'].value_counts()"
   ]
  },
  {
   "cell_type": "markdown",
   "id": "c507e8b4",
   "metadata": {},
   "source": [
    "#### States with multiple identifiers\n",
    "    Maine                       \n",
    "    Utah                    \n",
    "    South Dakota  \n",
    "    Oklahoma  \n",
    "    New York             \n",
    "    Oregon \n",
    "    Washington             \n",
    "    Indiana                  \n",
    "    Rhode Island \n",
    "    Puerto Rico   \n",
    "    Iowa                        \n",
    "    Georgia                     \n",
    "    Mississippi               \n",
    "    Nebraska \n",
    "    New England \n",
    "    Wisconsin    \n",
    "    New Mexico "
   ]
  },
  {
   "cell_type": "markdown",
   "id": "9886f108",
   "metadata": {},
   "source": [
    "### Let's try and fix them with regexes"
   ]
  },
  {
   "cell_type": "code",
   "execution_count": null,
   "id": "70d94d32",
   "metadata": {},
   "outputs": [],
   "source": [
    "violent['Area'] = violent['Area'].str.replace(r'\\d+',\"\")\n",
    "violent['Area'] = violent['Area'].str.replace(r',+',\"\")\n",
    "# violent['Area'] = violent['Area'].str.replace(r'Maine\\b',\"Maine\")\n",
    "# violent['Area'] = violent['Area'].str.replace(r'Utah\\b',\"Utah\")\n",
    "# violent['Area'] = violent['Area'].str.replace(r'South\\w*D\\b',\"South Dakota\")\n",
    "# violent['Area'] = violent['Area'].str.replace(r'New\\w*Y\\b',\"New York\")\n",
    "# violent['Area'] = violent['Area'].str.replace(r'Ore\\b',\"Oregon\")\n",
    "# violent['Area'] = violent['Area'].str.replace(r'Wash\\b',\"Washington\")\n",
    "# violent['Area'] = violent['Area'].str.replace(r'Indi\\b',\"Indiana\")\n",
    "# violent['Area'] = violent['Area'].str.replace(r'Rhode\\w*\\b',\"Rhode Island\")\n",
    "# violent['Area'] = violent['Area'].str.replace(r'Puer\\w',\"Puerto Rico\")\n",
    "# violent['Area'] = violent['Area'].str.replace(r'Iowa\\b',\"Iowa\")\n",
    "# violent['Area'] = violent['Area'].str.replace(r'Geor\\w',\"Georgia\")\n",
    "# violent['Area'] = violent['Area'].str.replace(r'Mississ\\b',\"Mississippi\")\n",
    "# violent['Area'] = violent['Area'].str.replace(r'Neb\\w',\"Nebraska\")\n",
    "# violent['Area'] = violent['Area'].str.replace(r'New\\s*En\\b',\"New England\")\n",
    "# violent['Area'] = violent['Area'].str.replace(r'Wis\\b',\"Wisconsin\")\n",
    "# violent['Area'] = violent['Area'].str.replace(r'New\\s*Me\\b',\"New Mexico\")"
   ]
  },
  {
   "cell_type": "code",
   "execution_count": null,
   "id": "6905a8e0",
   "metadata": {},
   "outputs": [],
   "source": [
    "#did it work?\n",
    "violent.Area.value_counts()\n"
   ]
  },
  {
   "cell_type": "code",
   "execution_count": null,
   "id": "fec37683",
   "metadata": {},
   "outputs": [],
   "source": [
    "violent['Area'] = violent['Area'].str.replace(r'\\wGeorgia\\w*',\"Georgia\")\n",
    "violent.Area.value_counts().tail()"
   ]
  },
  {
   "cell_type": "code",
   "execution_count": null,
   "id": "62160958",
   "metadata": {},
   "outputs": [],
   "source": [
    "#troubleshooting. my pivot table is dropping 2016. is there a 2016 record for Alabama in original frame?\n",
    "violent"
   ]
  },
  {
   "cell_type": "code",
   "execution_count": null,
   "id": "d26cf4a4",
   "metadata": {},
   "outputs": [],
   "source": [
    "v_table['Year'].value_counts()"
   ]
  },
  {
   "cell_type": "code",
   "execution_count": null,
   "id": "4a657bce",
   "metadata": {},
   "outputs": [],
   "source": [
    "# Remake this table again\n",
    "table =violent.groupby(['Area', 'Year']).first()\n",
    "table.head(30)"
   ]
  },
  {
   "cell_type": "code",
   "execution_count": null,
   "id": "328fd4d7",
   "metadata": {},
   "outputs": [],
   "source": [
    "#found a better way to do it than having a pivot table.\n",
    "table.reset_index(inplace=True)\n",
    "table.head()"
   ]
  },
  {
   "cell_type": "code",
   "execution_count": null,
   "id": "adb84389",
   "metadata": {},
   "outputs": [],
   "source": [
    "#export to xlsx for Tableau use\n",
    "v_table.to_excel(r'violent_data.xlsx',sheet_name='violent_sorted',index=False)"
   ]
  },
  {
   "cell_type": "code",
   "execution_count": null,
   "id": "e8ff915a",
   "metadata": {},
   "outputs": [],
   "source": [
    "# Do the same with Murder and burglary. "
   ]
  },
  {
   "cell_type": "code",
   "execution_count": null,
   "id": "0593d31c",
   "metadata": {},
   "outputs": [],
   "source": [
    "g = sns.FacetGrid(table.head(10), col='Area')\n",
    "g.map_dataframe(sns.lineplot, x='Year', y='Violent crime3')\n",
    "g.set_axis_labels('Year', 'violence')\n",
    "g.set_titles(col_template='{col_name}')"
   ]
  },
  {
   "cell_type": "markdown",
   "id": "ce3eeaf2",
   "metadata": {},
   "source": [
    "#### Having trouble getting it mapped out past .head(50). I need to come back to this, but have to chart the economic data by city to overlay"
   ]
  },
  {
   "cell_type": "code",
   "execution_count": null,
   "id": "42c06345",
   "metadata": {},
   "outputs": [],
   "source": [
    "tabel15=tabel15.drop(columns={'Consumer Price Index','Consumer Price Plus Rent Index','Local Purchasing Power Index'})\n",
    "tabel16=tabel16.drop(columns={'Cost of Living Index','Cost of Living Plus Rent Index','Local Purchasing Power Index','Rank'})\n",
    "tabel17=tabel17.drop(columns={'Cost of Living Index','Cost of Living Plus Rent Index','Local Purchasing Power Index','Rank'})\n",
    "tabel18=tabel18.drop(columns={'Cost of Living Index','Cost of Living Plus Rent Index','Local Purchasing Power Index','Rank'})\n",
    "tabel19=tabel19.drop(columns={'Cost of Living Index','Cost of Living Plus Rent Index','Local Purchasing Power Index','Rank'})"
   ]
  },
  {
   "cell_type": "code",
   "execution_count": null,
   "id": "f5f6ce61",
   "metadata": {
    "scrolled": true
   },
   "outputs": [],
   "source": [
    "#I started with a left join to tabel 17 because it has the most city data. I know this from running all tabels through a .info()\n",
    "city_living=tabel17.merge(tabel16, how='left', on='City')\n",
    "city_living=city_living.rename(columns= {'Rent Index_x':'Rent_17', 'Groceries Index_x': 'Groceries_17','Restaurant Price Index_x':'Eat-out_17'})\n",
    "city_living=city_living.rename(columns= {'Rent Index_y':'Rent_16', 'Groceries Index_y': 'Groceries_16','Restaurant Price Index_y':'Eat-out_16'})"
   ]
  },
  {
   "cell_type": "code",
   "execution_count": null,
   "id": "7d8c7d17",
   "metadata": {},
   "outputs": [],
   "source": [
    "city_living.head()"
   ]
  },
  {
   "cell_type": "code",
   "execution_count": null,
   "id": "5a299eef",
   "metadata": {},
   "outputs": [],
   "source": [
    "city_living=city_living.merge(tabel15, how=\"left\", on='City')\n",
    "city_living=city_living.rename(columns={'Rent Index':'Rent_15', 'Groceries Index':'Groceries_15', 'Restaurant Price Index':'Eat-out_15'})"
   ]
  },
  {
   "cell_type": "code",
   "execution_count": null,
   "id": "83277ff9",
   "metadata": {},
   "outputs": [],
   "source": [
    "city_living=city_living.merge(tabel18, how=\"left\", on='City')\n",
    "city_living.head()\n",
    "city_living=city_living.rename(columns={'Rent Index':'Rent_18', 'Groceries Index':'Groceries_18', 'Restaurant Price Index':'Eat-out_18'})"
   ]
  },
  {
   "cell_type": "code",
   "execution_count": null,
   "id": "756fe45b",
   "metadata": {},
   "outputs": [],
   "source": [
    "city_living=city_living.merge(tabel19, how=\"left\", on='City')\n",
    "city_living=city_living.rename(columns={'Rent Index':'Rent_19', 'Groceries Index':'Groceries_19', 'Restaurant Price Index':'Eat-out_19'})"
   ]
  },
  {
   "cell_type": "code",
   "execution_count": null,
   "id": "7c58e576",
   "metadata": {},
   "outputs": [],
   "source": [
    "#Get rid of rows that have more than one missing value in the 5 year span or repeat states\n",
    "city_redux=city_living.drop([3,5,6,7,9,12,13,15,16,17,18,22,25,26,28,29,34,35,39,42,43,44,45,47,48,52,55,56,59,62,63,66])\n",
    "city_redux=city_living.drop([71,72,74,75,76,79,80,81,86,88,90,92,93,96,98,100,102,108,116,118,119])\n",
    "#city_redux"
   ]
  },
  {
   "cell_type": "code",
   "execution_count": null,
   "id": "3b8c3ed8",
   "metadata": {},
   "outputs": [],
   "source": [
    "#Specify the state by separating it and renaming them\n",
    "city_redux[['City','State']]=city_redux.City.str.split(',',expand=True)"
   ]
  },
  {
   "cell_type": "code",
   "execution_count": null,
   "id": "36642962",
   "metadata": {},
   "outputs": [],
   "source": [
    "city_redux.State.value_counts()"
   ]
  },
  {
   "cell_type": "code",
   "execution_count": null,
   "id": "4770f9ed",
   "metadata": {},
   "outputs": [],
   "source": [
    "#city_redux.loc[city_redux['State'].str.contains('CA')]\n",
    "#Drop all but one as representative. Oakland closeset to the avg.\n",
    "#city_redux.loc[city_redux['State'].str.contains('FL')]\n",
    "#drop all but Tampa, the closest rent avg. \n",
    "#city_redux.loc[city_redux['State'].str.contains('WA')]\n",
    "# Everett closest to avg\n",
    "#city_redux.loc[city_redux['State'].str.contains('NC')]\n",
    "#Raleigh best for NC\n",
    "#city_redux.loc[city_redux['State'].str.contains('NY')]\n",
    "#NY city has the most data\n",
    "#city_redux.loc[city_redux['State'].str.contains('TX')]\n",
    "#Houston best avg.\n",
    "#city_redux.loc[city_redux['State'].str.contains('PA')]\n",
    "#Pittsburgh best avg, philadelphia much higher than others.\n",
    "#city_redux.loc[city_redux['State'].str.contains('OH')]\n",
    "#Cincinnati best with consistent data\n",
    "#city_redux.loc[city_redux['State'].str.contains('MO')]\n",
    "#Kansas City is too close to the border and affected by other state trade. Let's use St. Louis\n",
    "#city_redux.loc[city_redux['State'].str.contains('CO')]\n",
    "#Denver has the most data\n",
    "#city_redux.loc[city_redux['State'].str.contains('MI')]\n",
    "# Ann Arbor has the most data recorded\n"
   ]
  },
  {
   "cell_type": "code",
   "execution_count": null,
   "id": "0dce2a8b",
   "metadata": {},
   "outputs": [],
   "source": [
    "city_redux=city_redux.drop([2,9,15,25,35,37,39,44,50,66,14,17,29,42,\n",
    "                            48,52,55,104,8,13,43,62,85,30,34,67,68,7,18,33,63,65,113,19,31,58,\n",
    "                            41,89,95,103,117,26,28,49,59,10,94,115,87,3,112,105,53,78,110,6,16,45])\n"
   ]
  },
  {
   "cell_type": "markdown",
   "id": "c740362b",
   "metadata": {},
   "source": [
    "#### The rest were chosen by those that presented the most complete set of data"
   ]
  },
  {
   "cell_type": "code",
   "execution_count": null,
   "id": "7124e864",
   "metadata": {},
   "outputs": [],
   "source": [
    "# I want to order the columns by year\n",
    "city_rent=city_redux[['State','City','Rent_15','Rent_16','Rent_17','Rent_18','Rent_19']]\n",
    "city_goods=city_redux[['State','City','Groceries_15','Groceries_16','Groceries_17','Groceries_18','Groceries_19']]\n",
    "city_meals=city_redux[['State','City','Eat-out_15','Eat-out_16','Eat-out_17','Eat-out_18','Eat-out_19']]\n"
   ]
  },
  {
   "cell_type": "code",
   "execution_count": null,
   "id": "f2c15799",
   "metadata": {
    "scrolled": true
   },
   "outputs": [],
   "source": [
    "#export to tableau\n",
    "city_rent.to_excel(r'city_rent.xlsx',sheet_name='rent_sorted',index=False)\n",
    "city_goods.to_excel(r'city_goods.xlsx',sheet_name='goods_sorted',index=False)\n",
    "city_meals.to_excel(r'city_meal.xlsx',sheet_name='meal_sorted',index=False)"
   ]
  },
  {
   "cell_type": "markdown",
   "id": "6a718e7d",
   "metadata": {},
   "source": [
    "## Let's sort the rest of the crime data, export it to Tableau and close this baby. "
   ]
  },
  {
   "cell_type": "code",
   "execution_count": null,
   "id": "5d127db0",
   "metadata": {},
   "outputs": [],
   "source": [
    "cr16.head(1)"
   ]
  },
  {
   "cell_type": "code",
   "execution_count": null,
   "id": "c7046ba7",
   "metadata": {},
   "outputs": [],
   "source": [
    "steal6=cr16[['Area','Year','Population2','Burglary', 'Larceny-theft]]\n",
    "steal7=cr17[['Area','Year','Population2','Burglary', 'Larceny-theft]]\n",
    "steal8=cr18[['Area','Year','Population2','Burglary', 'Larceny-theft]]\n",
    "steal9=cr19[['Area','Year','Population2','Burglary', 'Larceny-theft]]\n",
    "steal5=cr15[['Area','Year','Population2','Burglary', 'Larceny-theft]]"
   ]
  }
 ],
 "metadata": {
  "kernelspec": {
   "display_name": "Python 3 (ipykernel)",
   "language": "python",
   "name": "python3"
  },
  "language_info": {
   "codemirror_mode": {
    "name": "ipython",
    "version": 3
   },
   "file_extension": ".py",
   "mimetype": "text/x-python",
   "name": "python",
   "nbconvert_exporter": "python",
   "pygments_lexer": "ipython3",
   "version": "3.9.7"
  }
 },
 "nbformat": 4,
 "nbformat_minor": 5
}
