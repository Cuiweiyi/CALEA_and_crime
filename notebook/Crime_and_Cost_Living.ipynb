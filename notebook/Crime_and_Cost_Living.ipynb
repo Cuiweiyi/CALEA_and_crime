{
 "cells": [
  {
   "cell_type": "code",
   "execution_count": null,
   "id": "d2734850",
   "metadata": {},
   "outputs": [],
   "source": [
    "import requests\n",
    "from bs4 import BeautifulSoup as BS\n",
    "from IPython.core.display import HTML\n",
    "import pandas as pd\n",
    "import re\n",
    "import seaborn as sns\n",
    "import matplotlib.pyplot as plt\n",
    "import warnings\n",
    "warnings.filterwarnings(\"ignore\")"
   ]
  },
  {
   "cell_type": "code",
   "execution_count": null,
   "id": "71ae29f5",
   "metadata": {},
   "outputs": [],
   "source": [
    "URL_16=\"https://web.archive.org/web/20160524083404/https://www.numbeo.com/cost-of-living/country_result.jsp?country=United+States\"\n",
    "# wayback machine referencing data from May of 2016\n",
    "response=requests.get(URL_16)"
   ]
  },
  {
   "cell_type": "code",
   "execution_count": null,
   "id": "7bb5d5fd",
   "metadata": {},
   "outputs": [],
   "source": [
    "response.status_code"
   ]
  },
  {
   "cell_type": "code",
   "execution_count": null,
   "id": "50d7db6b",
   "metadata": {},
   "outputs": [],
   "source": [
    "response.text"
   ]
  },
  {
   "cell_type": "code",
   "execution_count": null,
   "id": "d12c0639",
   "metadata": {},
   "outputs": [],
   "source": [
    "tomato_soup=BS(response.text)\n",
    "print(tomato_soup.prettify())"
   ]
  },
  {
   "cell_type": "code",
   "execution_count": null,
   "id": "c05c8c88",
   "metadata": {},
   "outputs": [],
   "source": [
    "item = tomato_soup.findAll('td')[5]\n",
    "item\n",
    "#To quote Amanda Partlow, \"why re-invent the wheel when you have something that already works\""
   ]
  },
  {
   "cell_type": "code",
   "execution_count": null,
   "id": "95cc9167",
   "metadata": {},
   "outputs": [],
   "source": [
    "items = tomato_soup.find(class_= 'data_wide_table').findAll('td')\n",
    "items"
   ]
  },
  {
   "cell_type": "code",
   "execution_count": null,
   "id": "a5cbb5a9",
   "metadata": {},
   "outputs": [],
   "source": [
    "#items.find(class_= 'tr_highlighted')\n",
    "table_16=pd.read_html(\"https://web.archive.org/web/20160524083404/https://www.numbeo.com/cost-of-living/country_result.jsp?country=United+States\")\n",
    "table_16= table_16[2]\n",
    "table_16.head()"
   ]
  },
  {
   "cell_type": "markdown",
   "id": "aa950478",
   "metadata": {},
   "source": [
    "### We got the first of the cost of living datasets from read_html, let's make it a dataframe"
   ]
  },
  {
   "cell_type": "code",
   "execution_count": null,
   "id": "e698fc49",
   "metadata": {},
   "outputs": [],
   "source": [
    "cost16=pd.DataFrame(table_16)\n",
    "cost16"
   ]
  },
  {
   "cell_type": "markdown",
   "id": "1cdb32cc",
   "metadata": {},
   "source": [
    "## Set up Cost of Living datasets"
   ]
  },
  {
   "cell_type": "markdown",
   "id": "c150e40b",
   "metadata": {},
   "source": [
    "###### We have the 2016 dataframe, set up the rest. "
   ]
  },
  {
   "cell_type": "markdown",
   "id": "b7cb6bc0",
   "metadata": {},
   "source": [
    "##### The wayback machine is not consistent on WHEN it captures, but at least once a month. \n",
    "##### could not make a loop because of inconsistent days recorded for scraping "
   ]
  },
  {
   "cell_type": "code",
   "execution_count": null,
   "id": "679f2120",
   "metadata": {},
   "outputs": [],
   "source": [
    "table_17=pd.read_html(\"https://web.archive.org/web/201704083404/https://www.numbeo.com/cost-of-living/country_result.jsp?country=United+States\")\n",
    "table_17= table_17[3]\n",
    "table_18=pd.read_html(\"https://web.archive.org/web/20180429062837/https://www.numbeo.com/cost-of-living/country_result.jsp?country=United+States\")\n",
    "table_18= table_18[3]\n",
    "table_19=pd.read_html(\"https://web.archive.org/web/20190403235143/https://www.numbeo.com/cost-of-living/country_result.jsp?country=United+States\")\n",
    "table_19= table_19[3]\n",
    "table_20=pd.read_html(\"https://web.archive.org/web/20200508184633/https://www.numbeo.com/cost-of-living/country_result.jsp?country=United+States\")\n",
    "table_20= table_20[3]"
   ]
  },
  {
   "cell_type": "markdown",
   "id": "6fc46aee",
   "metadata": {},
   "source": [
    "##### Let's check to make sure all of that went through correctly and there are no problems."
   ]
  },
  {
   "cell_type": "code",
   "execution_count": null,
   "id": "fc6f3cd2",
   "metadata": {},
   "outputs": [],
   "source": [
    "table_17.head()\n",
    "#looks good"
   ]
  },
  {
   "cell_type": "code",
   "execution_count": null,
   "id": "076b91f5",
   "metadata": {},
   "outputs": [],
   "source": [
    "table_17.tail()"
   ]
  },
  {
   "cell_type": "code",
   "execution_count": null,
   "id": "5083d3e5",
   "metadata": {},
   "outputs": [],
   "source": [
    "table_18.head()"
   ]
  },
  {
   "cell_type": "code",
   "execution_count": null,
   "id": "22a8f7a4",
   "metadata": {},
   "outputs": [],
   "source": [
    "table_19.head()\n",
    "# It WORKS! Finally starting to see some difference in prices too."
   ]
  },
  {
   "cell_type": "code",
   "execution_count": null,
   "id": "48104bb1",
   "metadata": {},
   "outputs": [],
   "source": [
    "table_20.head()"
   ]
  },
  {
   "cell_type": "markdown",
   "id": "14e3f2df",
   "metadata": {},
   "source": [
    "#### 2021 was not pulling correctly, so I singled that one out from the above column"
   ]
  },
  {
   "cell_type": "code",
   "execution_count": null,
   "id": "637ac02d",
   "metadata": {},
   "outputs": [],
   "source": [
    "table_21=pd.read_html(\"https://web.archive.org/web/20210605054203/https://www.numbeo.com/cost-of-living/country_result.jsp?country=United+States\")\n",
    "table_21= table_21[2]\n",
    "table_21.head()\n",
    "#There was a slightly different index. Once located it produced the same table"
   ]
  },
  {
   "cell_type": "code",
   "execution_count": null,
   "id": "fcdee91e",
   "metadata": {},
   "outputs": [],
   "source": [
    "cost17=pd.DataFrame(table_17)\n",
    "cost18=pd.DataFrame(table_18)\n",
    "cost19=pd.DataFrame(table_19)\n",
    "cost20=pd.DataFrame(table_20)\n",
    "cost21=pd.DataFrame(table_21)"
   ]
  },
  {
   "cell_type": "markdown",
   "id": "0db4cde5",
   "metadata": {},
   "source": [
    "### That pulls in our Cost of living data.\n",
    "###### The crime data was pulled in as CSV format from https://ucr.fbi.gov/crime-in-the-u.s/{year}"
   ]
  },
  {
   "cell_type": "code",
   "execution_count": null,
   "id": "da92589a",
   "metadata": {},
   "outputs": [],
   "source": [
    "cr16=pd.read_csv(\"../data/crime2016.csv\", nrows=202)\n",
    "header_row = cr16.iloc[2]\n",
    "cr16 = pd.DataFrame(cr16.values[3:], columns=header_row)\n",
    "cr16.head()"
   ]
  },
  {
   "cell_type": "markdown",
   "id": "cdd6946f",
   "metadata": {},
   "source": [
    "### Check the tail to make sure that we have exactly what we want. "
   ]
  },
  {
   "cell_type": "markdown",
   "id": "1d47585d",
   "metadata": {},
   "source": [
    "#### If we pulled in 2016 then we can pull in the others in the same way. "
   ]
  },
  {
   "cell_type": "code",
   "execution_count": null,
   "id": "474b504b",
   "metadata": {},
   "outputs": [],
   "source": [
    "cr16.tail()"
   ]
  },
  {
   "cell_type": "code",
   "execution_count": null,
   "id": "a083f515",
   "metadata": {},
   "outputs": [],
   "source": [
    "cr17=pd.read_excel(\"../data/crime2017.xlsx\", nrows=202)\n",
    "header_row = cr17.iloc[2]\n",
    "cr17 = pd.DataFrame(cr17.values[3:], columns=header_row)\n",
    "cr17.head()"
   ]
  },
  {
   "cell_type": "code",
   "execution_count": null,
   "id": "fc80ce4d",
   "metadata": {},
   "outputs": [],
   "source": [
    "cr18=pd.read_csv(\"../data/crime2018.csv\", nrows=202)\n",
    "header_row = cr18.iloc[2]\n",
    "cr18 = pd.DataFrame(cr18.values[3:], columns=header_row)\n",
    "cr18.head()"
   ]
  },
  {
   "cell_type": "code",
   "execution_count": null,
   "id": "a259ae09",
   "metadata": {},
   "outputs": [],
   "source": [
    "cr19=pd.read_csv(\"../data/crime2019.csv\", nrows=202, encoding = \"ISO-8859-1\")\n",
    "header_row = cr19.iloc[2]\n",
    "cr19 = pd.DataFrame(cr19.values[3:], columns=header_row)\n",
    "cr19.head()"
   ]
  },
  {
   "cell_type": "code",
   "execution_count": null,
   "id": "65d05fc8",
   "metadata": {},
   "outputs": [],
   "source": [
    "cr15=pd.read_csv(\"../data/crime2015.csv\", nrows=202)\n",
    "header_row = cr15.iloc[2]\n",
    "cr15 = pd.DataFrame(cr15.values[3:], columns=header_row)\n",
    "cr15.head()"
   ]
  },
  {
   "cell_type": "markdown",
   "id": "c71444a2",
   "metadata": {},
   "source": [
    "#### Now all of the data is in place. Let's look at how they compare."
   ]
  },
  {
   "cell_type": "code",
   "execution_count": null,
   "id": "3077fd5b",
   "metadata": {},
   "outputs": [],
   "source": [
    "cost=cost16.merge(cost17, how='inner', on='Restaurants')\n",
    "cost=cost.rename(columns= {'[ Edit ] Avg._x':'2016_cost', '[ Edit ] Avg._y': '2017_cost', 'Range_x':'Range_2016', 'Range_y':'Range_2017'})\n",
    "cost\n",
    "# This looks pretty good. Let's put the rest together"
   ]
  },
  {
   "cell_type": "code",
   "execution_count": null,
   "id": "0373c3a7",
   "metadata": {},
   "outputs": [],
   "source": [
    "cost=cost.merge(cost18, how='inner')\n",
    "cost=cost.rename(columns= {'[ Edit ]':'2018_cost', 'Range': 'Range_2018'})\n",
    "cost.head(1)"
   ]
  },
  {
   "cell_type": "code",
   "execution_count": null,
   "id": "bb84cbc3",
   "metadata": {},
   "outputs": [],
   "source": [
    "cost=cost.merge(cost19, how='inner')\n",
    "cost=cost.rename(columns= {'[ Edit ]':'2019_cost', 'Range': 'Range_2019'})\n",
    "cost.head(1)"
   ]
  },
  {
   "cell_type": "code",
   "execution_count": null,
   "id": "9885d999",
   "metadata": {},
   "outputs": [],
   "source": [
    "cost=cost.merge(cost20, how='inner')\n",
    "cost=cost.rename(columns= {'[ Edit ]':'2020_cost', 'Range': 'Range_2020'})\n",
    "cost=cost.merge(cost21, how='inner')\n",
    "cost=cost.rename(columns= {'Edit':'2021_cost', 'Range': 'Range_2021'})\n",
    "cost.head(1)"
   ]
  },
  {
   "cell_type": "markdown",
   "id": "324c2378",
   "metadata": {},
   "source": [
    "#### The cost table looks great and is complete. Let's do the same with the crime"
   ]
  },
  {
   "cell_type": "code",
   "execution_count": null,
   "id": "3c506d31",
   "metadata": {},
   "outputs": [],
   "source": [
    "avg_costs=cost.drop(columns={'Range_2016','Range_2017','Range_2018','Range_2019','Range_2020','Range_2021'})\n",
    "# I feel the most important rows for identifiers would be Meal, water, beer, and 1 bedroom apartment (both in and out of city)"
   ]
  },
  {
   "cell_type": "code",
   "execution_count": null,
   "id": "d26c349b",
   "metadata": {},
   "outputs": [],
   "source": [
    "#narrow it down to tjust the columns we want\n",
    "limited_cost=avg_costs[avg_costs['Restaurants'].isin(['Meal, Inexpensive Restaurant', 'Meal for 2 People, Mid-range Restaurant, Three...', 'Water (1.5 liter bottle)', 'Domestic Beer (0.5 liter bottle)', 'Apartment (1 bedroom) in City Centre', 'Apartment (1 bedroom) Outside of Centre'])]\n",
    "limited_cost"
   ]
  },
  {
   "cell_type": "code",
   "execution_count": null,
   "id": "94f0d009",
   "metadata": {},
   "outputs": [],
   "source": [
    "#find out what we are working with here\n",
    "limited_cost.info()"
   ]
  },
  {
   "cell_type": "code",
   "execution_count": null,
   "id": "1b546124",
   "metadata": {},
   "outputs": [],
   "source": [
    "#first we have to drop the pesky symbols which will not convert\n",
    "limited_cost=limited_cost.replace({'\\s\\$':''}, regex=True)\n",
    "#the code also told me to remove commas, so let's do that while we're here.\n",
    "limited_cost=limited_cost.replace({',':''}, regex=True)"
   ]
  },
  {
   "cell_type": "code",
   "execution_count": null,
   "id": "5e8ec7e6",
   "metadata": {},
   "outputs": [],
   "source": [
    "limited_cost"
   ]
  },
  {
   "cell_type": "code",
   "execution_count": null,
   "id": "8c2c246e",
   "metadata": {},
   "outputs": [],
   "source": [
    "# That's no good. We want floats or intergers, not objects. Let's convert them\n",
    "convert = {'2016_cost': float,\n",
    "           '2017_cost': float,\n",
    "           '2018_cost': float,\n",
    "           '2019_cost': float,\n",
    "           '2020_cost': float,\n",
    "           '2021_cost': float}"
   ]
  },
  {
   "cell_type": "code",
   "execution_count": null,
   "id": "e942a7d0",
   "metadata": {},
   "outputs": [],
   "source": [
    "limited_cost= limited_cost.astype(convert)\n",
    "limited_cost.info()"
   ]
  },
  {
   "cell_type": "code",
   "execution_count": null,
   "id": "2b4a5b2f",
   "metadata": {},
   "outputs": [],
   "source": [
    "cost1=limited_cost"
   ]
  },
  {
   "cell_type": "markdown",
   "id": "a0f07eb4",
   "metadata": {},
   "source": [
    "### Let's graph that to see how each price visually changed over time"
   ]
  },
  {
   "cell_type": "code",
   "execution_count": null,
   "id": "1f38d8ce",
   "metadata": {},
   "outputs": [],
   "source": [
    "# Calculating Percentage\n",
    "limited_cost['16-17'] = ((limited_cost['2017_cost']-limited_cost['2016_cost']) / limited_cost['2016_cost'])*100\n",
    "limited_cost.head()"
   ]
  },
  {
   "cell_type": "code",
   "execution_count": null,
   "id": "83e9bf8f",
   "metadata": {},
   "outputs": [],
   "source": [
    "limited_cost.info()"
   ]
  },
  {
   "cell_type": "code",
   "execution_count": null,
   "id": "ede08bd4",
   "metadata": {},
   "outputs": [],
   "source": [
    "limited_cost['17-18'] = ((limited_cost['2018_cost']-limited_cost['2017_cost']) / limited_cost['2017_cost'])*100\n",
    "limited_cost['18-19'] = ((limited_cost['2019_cost']-limited_cost['2018_cost']) / limited_cost['2018_cost'])*100\n",
    "limited_cost['19-20'] = ((limited_cost['2020_cost']-limited_cost['2019_cost']) / limited_cost['2019_cost'])*100\n",
    "limited_cost['20-21'] = ((limited_cost['2021_cost']-limited_cost['2020_cost']) / limited_cost['2020_cost'])*100\n",
    "limited_cost"
   ]
  },
  {
   "cell_type": "markdown",
   "id": "2a422a94",
   "metadata": {},
   "source": [
    "#### I feel good about that table with percent changes between each year."
   ]
  },
  {
   "cell_type": "code",
   "execution_count": null,
   "id": "1c8f6695",
   "metadata": {},
   "outputs": [],
   "source": [
    "#Swap them around and drop the percentages\n",
    "cost1=cost1[['Restaurants','2016_cost','2017_cost','2018_cost','2019_cost','2020_cost','2021_cost']]\n",
    "cost1.set_index('Restaurants', inplace=True)\n",
    "cost1=cost1.transpose()"
   ]
  },
  {
   "cell_type": "code",
   "execution_count": null,
   "id": "39d86ae2",
   "metadata": {},
   "outputs": [],
   "source": [
    "cost1.head()"
   ]
  },
  {
   "cell_type": "code",
   "execution_count": null,
   "id": "3328cabe",
   "metadata": {},
   "outputs": [],
   "source": [
    "#Trying to normalize the data since apartment is throwing every other cost off\n",
    "cheap=cost1[['Meal Inexpensive Restaurant','Water (1.5 liter bottle)','Domestic Beer (0.5 liter bottle)']]\n",
    "apart=cost1[['Apartment (1 bedroom) in City Centre','Apartment (1 bedroom) Outside of Centre']]"
   ]
  },
  {
   "cell_type": "code",
   "execution_count": null,
   "id": "c363da23",
   "metadata": {},
   "outputs": [],
   "source": [
    "#I don't like this graph\n",
    "cheap.plot.line(title=\"Cost of Goods\");\n",
    "\n",
    "plt.show;"
   ]
  },
  {
   "cell_type": "code",
   "execution_count": null,
   "id": "9624084c",
   "metadata": {},
   "outputs": [],
   "source": [
    "apart.plot.line(title=\"Cost of One Bedroom Housing\");\n",
    "\n",
    "plt.show;"
   ]
  },
  {
   "cell_type": "markdown",
   "id": "e838148c",
   "metadata": {},
   "source": [
    "## I have completed basic breakdown of goods over time. Let's look at the crime statistics. "
   ]
  },
  {
   "cell_type": "code",
   "execution_count": null,
   "id": "762731ed",
   "metadata": {},
   "outputs": [],
   "source": [
    "violent6=cr16[['Area','Year','Population2','Violent crime3']]\n",
    "violent7=cr17[['Area','Year','Population2','Violent crime3']]\n",
    "violent8=cr18[['Area','Year','Population2','Violent crime3']]\n",
    "violent9=cr19[['Area','Year','Population2','Violent crime3']]\n",
    "violent5=cr15[['Area','Year','Population2','Violent crime3']]"
   ]
  },
  {
   "cell_type": "code",
   "execution_count": null,
   "id": "75df2ad2",
   "metadata": {},
   "outputs": [],
   "source": [
    "violent=violent5.merge(violent6, how='outer')"
   ]
  },
  {
   "cell_type": "code",
   "execution_count": null,
   "id": "1e2368f6",
   "metadata": {
    "scrolled": true
   },
   "outputs": [],
   "source": [
    "violent=violent.merge(violent7, how='outer')\n",
    "violent"
   ]
  },
  {
   "cell_type": "code",
   "execution_count": null,
   "id": "fbebe7f2",
   "metadata": {},
   "outputs": [],
   "source": [
    "cr16.info()"
   ]
  },
  {
   "cell_type": "code",
   "execution_count": null,
   "id": "6ca5c3a3",
   "metadata": {},
   "outputs": [],
   "source": [
    "violent7.info()"
   ]
  },
  {
   "cell_type": "code",
   "execution_count": null,
   "id": "de2c43fd",
   "metadata": {},
   "outputs": [],
   "source": [
    "violent=violent.merge(violent8, how='outer')\n",
    "violent.head()"
   ]
  },
  {
   "cell_type": "code",
   "execution_count": null,
   "id": "4305df67",
   "metadata": {},
   "outputs": [],
   "source": [
    "violent=violent.merge(violent9, how='outer')"
   ]
  },
  {
   "cell_type": "code",
   "execution_count": null,
   "id": "9b5967eb",
   "metadata": {},
   "outputs": [],
   "source": []
  },
  {
   "cell_type": "code",
   "execution_count": null,
   "id": "9e644649",
   "metadata": {},
   "outputs": [],
   "source": [
    "#lets see what we are working with\n",
    "violent.info()"
   ]
  },
  {
   "cell_type": "code",
   "execution_count": null,
   "id": "a6db42c4",
   "metadata": {},
   "outputs": [],
   "source": [
    "#I was having trouble with the NaN values in Population, so I decided to convert it into a string first to isolate the letters.\n",
    "violent['Population2']=violent['Population2'].astype('str')\n",
    "violent.info()"
   ]
  },
  {
   "cell_type": "code",
   "execution_count": null,
   "id": "33f4234f",
   "metadata": {},
   "outputs": [],
   "source": [
    "#I think I need to change the types of population and crime to int or floats to show up in the pivot table. \n",
    "violent['Population2'] = violent['Population2'].str.replace('nan',\"0\")\n",
    "violent['Population2'] = violent['Population2'].str.replace(',',\"\")\n",
    "#eventually came up with this regex to help if =! \\d then make it a \\d\n",
    "violent['Population2'] = violent['Population2'].str.replace(r'\\s',\"0\")\n",
    "#violent['Population2'] = violent['Population2'].str.replace('',\"\")\n",
    "#Removing the commas to make it a float was easy. Removing the NaN was 难\n",
    "violent['Violent crime3'] = violent['Violent crime3'].str.replace('NaN',\"0\")\n",
    "violent['Violent crime3'] = violent['Violent crime3'].str.replace(',',\"\")\n",
    "violent['Violent crime3'] = violent['Violent crime3'].str.replace(r'\\s',\"0\")\n",
    "violent.head(50)"
   ]
  },
  {
   "cell_type": "code",
   "execution_count": null,
   "id": "5f793745",
   "metadata": {},
   "outputs": [],
   "source": [
    "violent['Population2'].astype('float')"
   ]
  },
  {
   "cell_type": "code",
   "execution_count": null,
   "id": "d333d46c",
   "metadata": {},
   "outputs": [],
   "source": [
    "#violent['Violent crime3'].astype('float')\n",
    "#I got the Populations to work, but now this one has a * somewhere. Let's see where that is and what it represents\n",
    "violent['Violent crime3'].str.find(r'*')"
   ]
  },
  {
   "cell_type": "code",
   "execution_count": null,
   "id": "c5c68fbf",
   "metadata": {
    "scrolled": true
   },
   "outputs": [],
   "source": [
    "table = pd.pivot_table(violent, index=['Area', 'Year'])\n",
    "table.head(100)"
   ]
  },
  {
   "cell_type": "code",
   "execution_count": null,
   "id": "83f11d17",
   "metadata": {},
   "outputs": [],
   "source": [
    "table.info()"
   ]
  },
  {
   "cell_type": "code",
   "execution_count": null,
   "id": "2db1bed4",
   "metadata": {},
   "outputs": [],
   "source": [
    "#Alaska and Hawaii are outliers because they import so much and that would throw off costs. \n",
    "\n",
    "# I just realized some of the names were off for states. Let's fix that"
   ]
  },
  {
   "cell_type": "code",
   "execution_count": null,
   "id": "adb88e37",
   "metadata": {},
   "outputs": [],
   "source": [
    "pd.set_option('display.max_rows', None)\n",
    "violent['Area'].value_counts()"
   ]
  },
  {
   "cell_type": "markdown",
   "id": "eee3d79c",
   "metadata": {},
   "source": [
    "#### States with multiple identifiers\n",
    "    Maine                       \n",
    "    Utah                    \n",
    "    South Dakota  \n",
    "    Oklahoma  \n",
    "    New York             \n",
    "    Oregon \n",
    "    Washington             \n",
    "    Indiana                  \n",
    "    Rhode Island \n",
    "    Puerto Rico   \n",
    "    Iowa                        \n",
    "    Georgia                     \n",
    "    Mississippi               \n",
    "    Nebraska \n",
    "    New England \n",
    "    Wisconsin    \n",
    "    New Mexico "
   ]
  },
  {
   "cell_type": "markdown",
   "id": "6373acd7",
   "metadata": {},
   "source": [
    "### Let's try and fix them with regexes"
   ]
  },
  {
   "cell_type": "code",
   "execution_count": null,
   "id": "6f7070bc",
   "metadata": {},
   "outputs": [],
   "source": [
    "violent['Area'] = violent['Area'].str.replace(r'\\d+',\"\")\n",
    "violent['Area'] = violent['Area'].str.replace(r',+',\"\")\n",
    "# violent['Area'] = violent['Area'].str.replace(r'Maine\\b',\"Maine\")\n",
    "# violent['Area'] = violent['Area'].str.replace(r'Utah\\b',\"Utah\")\n",
    "# violent['Area'] = violent['Area'].str.replace(r'South\\w*D\\b',\"South Dakota\")\n",
    "# violent['Area'] = violent['Area'].str.replace(r'New\\w*Y\\b',\"New York\")\n",
    "# violent['Area'] = violent['Area'].str.replace(r'Ore\\b',\"Oregon\")\n",
    "# violent['Area'] = violent['Area'].str.replace(r'Wash\\b',\"Washington\")\n",
    "# violent['Area'] = violent['Area'].str.replace(r'Indi\\b',\"Indiana\")\n",
    "# violent['Area'] = violent['Area'].str.replace(r'Rhode\\w*\\b',\"Rhode Island\")\n",
    "# violent['Area'] = violent['Area'].str.replace(r'Puer\\w',\"Puerto Rico\")\n",
    "# violent['Area'] = violent['Area'].str.replace(r'Iowa\\b',\"Iowa\")\n",
    "# violent['Area'] = violent['Area'].str.replace(r'Geor\\w',\"Georgia\")\n",
    "# violent['Area'] = violent['Area'].str.replace(r'Mississ\\b',\"Mississippi\")\n",
    "# violent['Area'] = violent['Area'].str.replace(r'Neb\\w',\"Nebraska\")\n",
    "# violent['Area'] = violent['Area'].str.replace(r'New\\s*En\\b',\"New England\")\n",
    "# violent['Area'] = violent['Area'].str.replace(r'Wis\\b',\"Wisconsin\")\n",
    "# violent['Area'] = violent['Area'].str.replace(r'New\\s*Me\\b',\"New Mexico\")"
   ]
  },
  {
   "cell_type": "code",
   "execution_count": null,
   "id": "42e5f97b",
   "metadata": {},
   "outputs": [],
   "source": [
    "#did it work?\n",
    "violent.Area.value_counts()\n"
   ]
  },
  {
   "cell_type": "code",
   "execution_count": null,
   "id": "51ec139b",
   "metadata": {},
   "outputs": [],
   "source": [
    "violent['Area'] = violent['Area'].str.replace(r'\\wGeorgia\\w*',\"Georgia\")\n",
    "violent.Area.value_counts().tail()"
   ]
  },
  {
   "cell_type": "code",
   "execution_count": null,
   "id": "59a515d0",
   "metadata": {},
   "outputs": [],
   "source": [
    "# Remake this table again\n",
    "table = pd.pivot_table(violent, index=['Area', 'Year'])\n",
    "table.head(10)"
   ]
  },
  {
   "cell_type": "code",
   "execution_count": null,
   "id": "75eb9940",
   "metadata": {},
   "outputs": [],
   "source": [
    "table.reset_index(inplace=True)\n",
    "table.head()"
   ]
  },
  {
   "cell_type": "code",
   "execution_count": null,
   "id": "972ec980",
   "metadata": {},
   "outputs": [],
   "source": [
    "table.reset_index(inplace=False)"
   ]
  },
  {
   "cell_type": "code",
   "execution_count": null,
   "id": "51f4cbbf",
   "metadata": {},
   "outputs": [],
   "source": [
    "table.info()"
   ]
  },
  {
   "cell_type": "code",
   "execution_count": null,
   "id": "13261796",
   "metadata": {},
   "outputs": [],
   "source": [
    "g = sns.FacetGrid(table.head(15), col='Area')\n",
    "g.map_dataframe(sns.lineplot, x='Year', y='Violent crime3')\n",
    "g.set_axis_labels('Year', 'violence')\n",
    "g.set_titles(col_template='{col_name}')"
   ]
  },
  {
   "cell_type": "code",
   "execution_count": null,
   "id": "bad88b5a",
   "metadata": {},
   "outputs": [],
   "source": [
    "g = sns.FacetGrid(table(15:30), col='Area')\n",
    "g.map_dataframe(sns.lineplot, x='Year', y='Violent crime3')\n",
    "g.set_axis_labels('Year', 'violence')\n",
    "g.set_titles(col_template='{col_name}')"
   ]
  },
  {
   "cell_type": "code",
   "execution_count": null,
   "id": "15b2d351",
   "metadata": {},
   "outputs": [],
   "source": [
    "S=pd.Series(table['Area'])\n",
    "[itm[0] for itm in S.str.findall('^[Ff].*')]"
   ]
  },
  {
   "cell_type": "code",
   "execution_count": null,
   "id": "45ced204",
   "metadata": {},
   "outputs": [],
   "source": [
    "g = sns.FacetGrid(W, col='Area')\n",
    "g.map_dataframe(sns.lineplot, x='Year', y='Violent crime3')\n",
    "g.set_axis_labels('Year', 'violence')\n",
    "g.set_titles(col_template='{col_name}')"
   ]
  },
  {
   "cell_type": "code",
   "execution_count": null,
   "id": "648e3df2",
   "metadata": {},
   "outputs": [],
   "source": []
  }
 ],
 "metadata": {
  "kernelspec": {
   "display_name": "Python 3 (ipykernel)",
   "language": "python",
   "name": "python3"
  },
  "language_info": {
   "codemirror_mode": {
    "name": "ipython",
    "version": 3
   },
   "file_extension": ".py",
   "mimetype": "text/x-python",
   "name": "python",
   "nbconvert_exporter": "python",
   "pygments_lexer": "ipython3",
   "version": "3.9.7"
  }
 },
 "nbformat": 4,
 "nbformat_minor": 5
}
